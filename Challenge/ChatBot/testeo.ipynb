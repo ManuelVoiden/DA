{
 "cells": [
  {
   "cell_type": "code",
   "execution_count": 1,
   "metadata": {},
   "outputs": [
    {
     "name": "stdout",
     "output_type": "stream",
     "text": [
      "   match_id  goals_in_favor  goals_on_counter result  \\\n",
      "0      2001               2                 3   Lost   \n",
      "1      2002              12                11    Win   \n",
      "2      2003               8                 6    Win   \n",
      "\n",
      "                                players_on_the_match stadium date_match  \n",
      "0  1001;1002;1003;1004;1005;1006;1007;1008;1009;1...       A   6/6/2021  \n",
      "1  1014;1015;1016;1017;1018;1019;1020;1021;1022;1...       B  6/13/2021  \n",
      "2  1008;1009;1010;1011;1012;1013;1014;1015;1016;1...       C  6/20/2021  \n"
     ]
    }
   ],
   "source": [
    "import pandas as pd\n",
    "\n",
    "matches = pd.read_csv('../matches.csv')\n",
    "print(matches.head(3))"
   ]
  }
 ],
 "metadata": {
  "interpreter": {
   "hash": "234be6acbf8bc2c7bf6fe9cbd9a0569bc884a376aaf118a66e1adb05694c5759"
  },
  "kernelspec": {
   "display_name": "Python 3.9.7 64-bit ('base': conda)",
   "language": "python",
   "name": "python3"
  },
  "language_info": {
   "codemirror_mode": {
    "name": "ipython",
    "version": 3
   },
   "file_extension": ".py",
   "mimetype": "text/x-python",
   "name": "python",
   "nbconvert_exporter": "python",
   "pygments_lexer": "ipython3",
   "version": "3.9.7"
  },
  "orig_nbformat": 4
 },
 "nbformat": 4,
 "nbformat_minor": 2
}
