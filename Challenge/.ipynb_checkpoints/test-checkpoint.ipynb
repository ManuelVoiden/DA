{
 "cells": [
  {
   "cell_type": "code",
   "execution_count": 3,
   "metadata": {},
   "outputs": [
    {
     "name": "stdout",
     "output_type": "stream",
     "text": [
      "   match_id  goals_in_favor  goals_on_counter result  \\\n",
      "0      2001               2                 3   Lost   \n",
      "1      2002              12                11    Win   \n",
      "2      2003               8                 6    Win   \n",
      "\n",
      "                                players_on_the_match stadium date_match  \n",
      "0  1001;1002;1003;1004;1005;1006;1007;1008;1009;1...       A   6/6/2021  \n",
      "1  1014;1015;1016;1017;1018;1019;1020;1021;1022;1...       B  6/13/2021  \n",
      "2  1008;1009;1010;1011;1012;1013;1014;1015;1016;1...       C  6/20/2021  \n"
     ]
    }
   ],
   "source": [
    "import pandas as pd\n",
    "\n",
    "matches = pd.read_csv('matches.csv')\n",
    "print(matches.head(3))"
   ]
  },
  {
   "cell_type": "code",
   "execution_count": 4,
   "metadata": {},
   "outputs": [
    {
     "name": "stdout",
     "output_type": "stream",
     "text": [
      "   player_id                        player  health_score  goals  assists  \\\n",
      "0       1001            Mar Benavent Bauzà            70      0        1   \n",
      "1       1002    Marcelo Pedro Arcos Blasco            77      0        0   \n",
      "2       1003  Candelario Villalonga Avilés            65      9        1   \n",
      "\n",
      "   matches_played  injuries  \n",
      "0              20         2  \n",
      "1              10         0  \n",
      "2              30         2  \n"
     ]
    }
   ],
   "source": [
    "players = pd.read_csv('players.csv')\n",
    "print(players.head(3))"
   ]
  },
  {
   "cell_type": "code",
   "execution_count": 5,
   "metadata": {},
   "outputs": [
    {
     "name": "stdout",
     "output_type": "stream",
     "text": [
      "  stadium  stadium_score      city  capacity\n",
      "0       A            100    Bogota      1200\n",
      "1       B             90  New York      1100\n",
      "2       C             80      Lima       700\n"
     ]
    }
   ],
   "source": [
    "stadiums = pd.read_json('stadiums.json')\n",
    "print(stadiums.head(3))"
   ]
  },
  {
   "cell_type": "code",
   "execution_count": null,
   "metadata": {},
   "outputs": [],
   "source": [
    "#Sacar nombres de columnas de partidos\n",
    "matches.columns"
   ]
  },
  {
   "cell_type": "code",
   "execution_count": null,
   "metadata": {},
   "outputs": [],
   "source": [
    "#Sacar nombres de columnas de jugadores\n",
    "players.columns"
   ]
  },
  {
   "cell_type": "code",
   "execution_count": null,
   "metadata": {},
   "outputs": [],
   "source": [
    "##\n",
    "matches.columns\n",
    "\n",
    "print(matches[['match_id', 'result', 'stadium', 'date_match']])"
   ]
  },
  {
   "cell_type": "code",
   "execution_count": null,
   "metadata": {},
   "outputs": [],
   "source": [
    "## Ver el resultado de un partido en especifico\n",
    "\n",
    "print(matches.iloc[3])"
   ]
  },
  {
   "cell_type": "code",
   "execution_count": null,
   "metadata": {},
   "outputs": [],
   "source": [
    "##Ver el rundown de un jugador en especifico\n",
    "print(players.iloc[4])"
   ]
  },
  {
   "cell_type": "markdown",
   "metadata": {},
   "source": []
  },
  {
   "cell_type": "code",
   "execution_count": null,
   "metadata": {},
   "outputs": [],
   "source": [
    "## ubicar datos especificos\n",
    "\n",
    "paco=matches.loc[matches['stadium'] == \"A\"]\n",
    "victorias=matches\n",
    "matches\n"
   ]
  },
  {
   "cell_type": "code",
   "execution_count": null,
   "metadata": {},
   "outputs": [],
   "source": [
    "##Ordenar datos en las tablas\n",
    "matches.sort_values('result', ascending=False)"
   ]
  },
  {
   "cell_type": "code",
   "execution_count": null,
   "metadata": {},
   "outputs": [],
   "source": [
    "matches.loc[(matches['result'] == \"Win\") & (matches['stadium'] == \"A\")]"
   ]
  },
  {
   "cell_type": "code",
   "execution_count": null,
   "metadata": {},
   "outputs": [],
   "source": [
    "x=0\n",
    "y=0\n",
    "\n",
    "for x in range((matches.shape[0])):\n",
    "    for y in range((stadiums.shape[0])):\n",
    "        if matches.iloc[x,5] == stadiums.iloc[y,0]:\n",
    "            matches.iloc[x,7] = stadiums.iloc[y,2]\n",
    "            \n",
    "matches"
   ]
  },
  {
   "cell_type": "code",
   "execution_count": null,
   "metadata": {},
   "outputs": [],
   "source": [
    "stadiums.iloc[2,0]\n",
    "\n",
    "matches['Ciudad']=\"\"\n",
    "\n",
    "stadiums"
   ]
  }
 ],
 "metadata": {
  "interpreter": {
   "hash": "ee0ffe8c18b7738e138041ecab659ea44701fe7709d365f140f2240a364fb3e6"
  },
  "kernelspec": {
   "display_name": "Python 3.9.9 64-bit (windows store)",
   "language": "python",
   "name": "python3"
  },
  "language_info": {
   "codemirror_mode": {
    "name": "ipython",
    "version": 3
   },
   "file_extension": ".py",
   "mimetype": "text/x-python",
   "name": "python",
   "nbconvert_exporter": "python",
   "pygments_lexer": "ipython3",
   "version": "3.9.7"
  },
  "orig_nbformat": 4
 },
 "nbformat": 4,
 "nbformat_minor": 2
}
