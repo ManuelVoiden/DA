{
 "cells": [
  {
   "cell_type": "code",
   "execution_count": null,
   "id": "6a99f4c7-b0e6-459d-8ea8-b041202f6625",
   "metadata": {},
   "outputs": [],
   "source": []
  }
 ],
 "metadata": {
  "kernelspec": {
   "display_name": "Python 3.9 (XPython)",
   "language": "python",
   "name": "xpython"
  },
  "language_info": {
   "file_extension": ".py",
   "mimetype": "text/x-python",
   "name": "python",
   "version": "3.9.9"
  }
 },
 "nbformat": 4,
 "nbformat_minor": 5
}
